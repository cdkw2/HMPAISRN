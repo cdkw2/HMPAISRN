{
 "cells": [
  {
   "cell_type": "code",
   "execution_count": null,
   "id": "enormous-pillow",
   "metadata": {},
   "outputs": [],
   "source": [
    "import requests\n",
    "\n",
    "response = requests.get('http://api.open-notify.org/astros.json')\n",
    "data = response.json()\n",
    "\n",
    "number = data['number']\n",
    "print(f\"Number of people in space: {number}\")\n",
    "\n",
    "for person in data['people']:\n",
    "    print(f\"Astronaut name: {person['name']}\")"
   ]
  },
  {
   "cell_type": "code",
   "execution_count": 1,
   "id": "colonial-gauge",
   "metadata": {},
   "outputs": [
    {
     "name": "stderr",
     "output_type": "stream",
     "text": [
      "[\u001b[1;32mINFO\u001b[0m   ] [Logger      ] Record log in /home/cdkw2/.kivy/logs/kivy_23-08-26_2.txt\n",
      "[\u001b[1;32mINFO\u001b[0m   ] [Kivy        ] v2.2.1\n",
      "[\u001b[1;32mINFO\u001b[0m   ] [Kivy        ] Installed at \"/home/cdkw2/.local/lib/python3.9/site-packages/kivy/__init__.py\"\n",
      "[\u001b[1;32mINFO\u001b[0m   ] [Python      ] v3.9.2 (default, Feb 28 2021, 17:03:44) \n",
      "[GCC 10.2.1 20210110]\n",
      "[\u001b[1;32mINFO\u001b[0m   ] [Python      ] Interpreter at \"/usr/bin/python3\"\n",
      "[\u001b[1;32mINFO\u001b[0m   ] [Logger      ] Purge log fired. Processing...\n",
      "[\u001b[1;32mINFO\u001b[0m   ] [Logger      ] Purge finished!\n",
      "[\u001b[1;32mINFO\u001b[0m   ] [Factory     ] 190 symbols loaded\n",
      "[\u001b[1;32mINFO\u001b[0m   ] [Image       ] Providers: img_tex, img_dds, img_sdl2, img_pil (img_ffpyplayer ignored)\n",
      "[\u001b[1;32mINFO\u001b[0m   ] [Text        ] Provider: sdl2\n",
      "[\u001b[1;32mINFO\u001b[0m   ] [Window      ] Provider: sdl2\n",
      "[\u001b[1;32mINFO\u001b[0m   ] [GL          ] Using the \"OpenGL\" graphics system\n",
      "[\u001b[1;32mINFO\u001b[0m   ] [GL          ] Backend used <sdl2>\n",
      "[\u001b[1;32mINFO\u001b[0m   ] [GL          ] OpenGL version <b'2.1 Mesa 20.3.5'>\n",
      "[\u001b[1;32mINFO\u001b[0m   ] [GL          ] OpenGL vendor <b'Broadcom'>\n",
      "[\u001b[1;32mINFO\u001b[0m   ] [GL          ] OpenGL renderer <b'V3D 4.2'>\n",
      "[\u001b[1;32mINFO\u001b[0m   ] [GL          ] OpenGL parsed version: 2, 1\n",
      "[\u001b[1;32mINFO\u001b[0m   ] [GL          ] Shading version <b'1.20'>\n",
      "[\u001b[1;32mINFO\u001b[0m   ] [GL          ] Texture max size <4096>\n",
      "[\u001b[1;32mINFO\u001b[0m   ] [GL          ] Texture max units <16>\n",
      "[\u001b[1;32mINFO\u001b[0m   ] [Window      ] auto add sdl2 input provider\n",
      "[\u001b[1;32mINFO\u001b[0m   ] [Window      ] virtual keyboard not allowed, single mode, not docked\n",
      "[\u001b[1;32mINFO\u001b[0m   ] [Base        ] Start application main loop\n",
      "[\u001b[1;32mINFO\u001b[0m   ] [GL          ] NPOT texture support is available\n",
      "[\u001b[1;32mINFO\u001b[0m   ] [Base        ] Leaving application in progress...\n"
     ]
    }
   ],
   "source": [
    "from kivy.app import App\n",
    "from kivy.uix.boxlayout import BoxLayout\n",
    "from kivy.uix.label import Label\n",
    "from kivy.uix.recycleview import RecycleView\n",
    "from kivy.network.urlrequest import UrlRequest\n",
    "\n",
    "class AstronautListItem(BoxLayout):\n",
    "    pass\n",
    "\n",
    "class AstronautList(RecycleView):\n",
    "    def __init__(self, **kwargs):\n",
    "        super(AstronautList, self).__init__(**kwargs)\n",
    "        self.data = []\n",
    "\n",
    "class SpaceApp(App):\n",
    "    def build(self):\n",
    "        layout = BoxLayout(orientation='vertical')\n",
    "        \n",
    "        self.number_label = Label(text=\"Number of people in space:\")\n",
    "        layout.add_widget(self.number_label)\n",
    "\n",
    "        self.astronaut_list = AstronautList()\n",
    "        layout.add_widget(self.astronaut_list)\n",
    "\n",
    "        self.fetch_data()\n",
    "\n",
    "        return layout\n",
    "\n",
    "    def fetch_data(self, *args):\n",
    "        url = \"http://api.open-notify.org/astros.json\"\n",
    "        request = UrlRequest(url, self.parse_json)\n",
    "\n",
    "    def parse_json(self, req, result):\n",
    "        self.number_label.text = f\"Number of people in space: {result['number']}\"\n",
    "\n",
    "        astronaut_names = [{'text': person['name']} for person in result['people']]\n",
    "        self.astronaut_list.data = astronaut_names\n",
    "\n",
    "if __name__ == '__main__':\n",
    "    SpaceApp().run()"
   ]
  }
 ],
 "metadata": {
  "kernelspec": {
   "display_name": "Python 3",
   "language": "python",
   "name": "python3"
  },
  "language_info": {
   "codemirror_mode": {
    "name": "ipython",
    "version": 3
   },
   "file_extension": ".py",
   "mimetype": "text/x-python",
   "name": "python",
   "nbconvert_exporter": "python",
   "pygments_lexer": "ipython3",
   "version": "3.9.2"
  }
 },
 "nbformat": 4,
 "nbformat_minor": 5
}
