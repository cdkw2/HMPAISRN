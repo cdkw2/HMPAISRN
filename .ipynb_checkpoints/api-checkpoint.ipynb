{
 "cells": [
  {
   "cell_type": "code",
   "execution_count": null,
   "id": "pleasant-local",
   "metadata": {},
   "outputs": [],
   "source": [
    "import requests\n",
    "\n",
    "response = requests.get('http://api.open-notify.org/astros.json')\n",
    "data = response.json()\n",
    "\n",
    "number = data['number']\n",
    "print(f\"Number of people in space: {number}\")\n",
    "\n",
    "for person in data['people']:\n",
    "    print(f\"Astronaut name: {person['name']}\")"
   ]
  },
  {
   "cell_type": "code",
   "execution_count": null,
   "id": "assured-wheel",
   "metadata": {},
   "outputs": [],
   "source": [
    "from kivy.app import App\n",
    "from kivy.uix.boxlayout import BoxLayout\n",
    "from kivy.uix.label import Label\n",
    "from kivy.uix.recycleview import RecycleView\n",
    "from kivy.network.urlrequest import UrlRequest\n",
    "\n",
    "class AstronautListItem(BoxLayout):\n",
    "    pass\n",
    "\n",
    "class AstronautList(RecycleView):\n",
    "    def __init__(self, **kwargs):\n",
    "        super(AstronautList, self).__init__(**kwargs)\n",
    "        self.data = []\n",
    "\n",
    "class SpaceApp(App):\n",
    "    def build(self):\n",
    "        layout = BoxLayout(orientation='vertical')\n",
    "        \n",
    "        self.number_label = Label(text=\"Number of people in space:\")\n",
    "        layout.add_widget(self.number_label)\n",
    "\n",
    "        self.astronaut_list = AstronautList()\n",
    "        layout.add_widget(self.astronaut_list)\n",
    "\n",
    "        self.fetch_data()\n",
    "\n",
    "        return layout\n",
    "\n",
    "    def fetch_data(self, *args):\n",
    "        url = \"http://api.open-notify.org/astros.json\"\n",
    "        request = UrlRequest(url, self.parse_json)\n",
    "\n",
    "    def parse_json(self, req, result):\n",
    "        self.number_label.text = f\"Number of people in space: {result['number']}\"\n",
    "\n",
    "        astronaut_names = [{'text': person['name']} for person in result['people']]\n",
    "        self.astronaut_list.data = astronaut_names\n",
    "\n",
    "if __name__ == '__main__':\n",
    "    SpaceApp().run()"
   ]
  }
 ],
 "metadata": {
  "kernelspec": {
   "display_name": "Python 3",
   "language": "python",
   "name": "python3"
  },
  "language_info": {
   "codemirror_mode": {
    "name": "ipython",
    "version": 3
   },
   "file_extension": ".py",
   "mimetype": "text/x-python",
   "name": "python",
   "nbconvert_exporter": "python",
   "pygments_lexer": "ipython3",
   "version": "3.9.2"
  }
 },
 "nbformat": 4,
 "nbformat_minor": 5
}
